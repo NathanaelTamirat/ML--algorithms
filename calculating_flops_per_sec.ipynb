{
 "cells": [
  {
   "cell_type": "code",
   "execution_count": 1,
   "metadata": {},
   "outputs": [],
   "source": [
    "import time\n",
    "import numpy as np"
   ]
  },
  {
   "cell_type": "code",
   "execution_count": 2,
   "metadata": {},
   "outputs": [
    {
     "name": "stdout",
     "output_type": "stream",
     "text": [
      "76191500.37693349\n"
     ]
    }
   ],
   "source": [
    "def calculate_flops(func, *args):\n",
    "  start_time = time.time()\n",
    "  func(*args)\n",
    "  end_time = time.time()\n",
    "  elapsed_time = end_time - start_time\n",
    "  flops = np.prod(args[0].shape) * 2\n",
    "  return flops / elapsed_time\n",
    "\n",
    "# Example usage:\n",
    "a = np.random.rand(1000, 1000)\n",
    "b = np.random.rand(1000, 1000)\n",
    "\n",
    "flops = calculate_flops(np.dot, a, b)\n",
    "\n",
    "print(flops)"
   ]
  }
 ],
 "metadata": {
  "kernelspec": {
   "display_name": "tensorkernel",
   "language": "python",
   "name": ".venv"
  },
  "language_info": {
   "codemirror_mode": {
    "name": "ipython",
    "version": 3
   },
   "file_extension": ".py",
   "mimetype": "text/x-python",
   "name": "python",
   "nbconvert_exporter": "python",
   "pygments_lexer": "ipython3",
   "version": "3.12.1"
  }
 },
 "nbformat": 4,
 "nbformat_minor": 2
}
