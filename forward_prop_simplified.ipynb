{
 "cells": [
  {
   "cell_type": "code",
   "execution_count": 2,
   "metadata": {},
   "outputs": [],
   "source": [
    "import numpy as np"
   ]
  },
  {
   "cell_type": "code",
   "execution_count": 3,
   "metadata": {},
   "outputs": [
    {
     "data": {
      "text/plain": [
       "array([0.99330715])"
      ]
     },
     "execution_count": 3,
     "metadata": {},
     "output_type": "execute_result"
    }
   ],
   "source": [
    "x=np.array([200,17])\n",
    "\n",
    "def sigmoid(z):\n",
    "    z=np.clip(z,-500,500)\n",
    "    g=1.0/(1.0+np.exp(-z))\n",
    "    return g\n",
    "\n",
    "# first layer first neuron\n",
    "w1_1=np.array([1,2])\n",
    "b1_1=np.array([-1])\n",
    "z1_1=np.dot(w1_1,x)+b1_1\n",
    "a1_1=sigmoid(z1_1)\n",
    "#first layer second neuron\n",
    "w1_2=np.array([-3,4])\n",
    "b1_2=np.array([1])\n",
    "z1_2=np.dot(w1_2,x)+b1_2\n",
    "a1_2=sigmoid(z1_2)\n",
    "#first layer third neuron\n",
    "w1_3=np.array([5,-6])\n",
    "b1_3=np.array([2])\n",
    "z1_3=np.dot(w1_3,x)+b1_3\n",
    "a1_3=sigmoid(z1_3)\n",
    "\n",
    "# sent to the next layer \n",
    "a1=np.array([a1_1,a1_2,a1_3])\n",
    "\n",
    "#second layer first neuron\n",
    "w2_1=np.array([-7,8,9])\n",
    "b2_1=np.array([3])\n",
    "z2_1=np.dot(w2_1,a1)+b2_1\n",
    "a2_1=sigmoid(z2_1)\n",
    "a2_1"
   ]
  },
  {
   "cell_type": "code",
   "execution_count": 8,
   "metadata": {},
   "outputs": [
    {
     "data": {
      "text/plain": [
       "array([1.00000000e+000, 7.12457641e-218, 1.00000000e+000])"
      ]
     },
     "execution_count": 8,
     "metadata": {},
     "output_type": "execute_result"
    }
   ],
   "source": [
    "# for loop implementation of froward prop of NN\n",
    "x=np.array([200,17])       # given in 1d array\n",
    "W=np.array([[1,-3,5],    \n",
    "            [-2,4,-6]])    # 2d\n",
    "b=np.array([-1,1,2])       # 1d\n",
    "def sigmoid(z):\n",
    "    z=np.clip(z,-500,500)\n",
    "    g=1.0/(1.0+np.exp(-z))\n",
    "    return g\n",
    "g = sigmoid\n",
    "def dense(a_in,W,b):\n",
    "    units=W.shape[1]\n",
    "    a_out=np.zeros(units)\n",
    "    for j in range(units):\n",
    "        w=W[:,j]\n",
    "        z=np.dot(w,a_in)+b[j]\n",
    "        a_out[j]=g(z)\n",
    "    return a_out    \n",
    "aout=dense(x,W,b)\n",
    "aout "
   ]
  },
  {
   "cell_type": "code",
   "execution_count": 5,
   "metadata": {},
   "outputs": [
    {
     "data": {
      "text/plain": [
       "array([[1.00000000e+000, 7.12457641e-218, 1.00000000e+000]])"
      ]
     },
     "execution_count": 5,
     "metadata": {},
     "output_type": "execute_result"
    }
   ],
   "source": [
    "# vectorized implementation forward prop of NN \n",
    "X_t=np.array([[200,17]])    # 2-d arrays--all\n",
    "W=np.array([[1,-3,5],\n",
    "            [-2,4,-6]])\n",
    "B=np.array([[-1,1,2]])\n",
    "\n",
    "def dense(A_in,W,B):    \n",
    "    Z=np.matmul(A_in,W)+B     # matrices multiplication\n",
    "    A_out=g(Z)\n",
    "    return A_out\n",
    "\n",
    "q=dense(X_t,W,B)\n",
    "q"
   ]
  },
  {
   "cell_type": "code",
   "execution_count": 6,
   "metadata": {},
   "outputs": [
    {
     "data": {
      "text/plain": [
       "array([ 1, -3,  5])"
      ]
     },
     "execution_count": 6,
     "metadata": {},
     "output_type": "execute_result"
    }
   ],
   "source": [
    "W[0]"
   ]
  },
  {
   "cell_type": "code",
   "execution_count": 9,
   "metadata": {},
   "outputs": [
    {
     "data": {
      "text/plain": [
       "array([[24, 28, 32, 27],\n",
       "       [34, 40, 46, 40],\n",
       "       [47, 56, 65, 59]])"
      ]
     },
     "execution_count": 9,
     "metadata": {},
     "output_type": "execute_result"
    }
   ],
   "source": [
    "# matrix multiplications\n",
    "q=np.array([[1,2,4],\n",
    "            [3,4,5]])\n",
    "q.shape\n",
    "q_t=q.T  # transpose\n",
    "q_t\n",
    "w=np.array([[3,4,5,6],\n",
    "            [7,8,9,7]])\n",
    "\n",
    "z=q_t@w # we can use z=np.matmul(q_t,w) or q_t @ w\n",
    "z"
   ]
  }
 ],
 "metadata": {
  "kernelspec": {
   "display_name": "tensorkernel",
   "language": "python",
   "name": ".venv"
  },
  "language_info": {
   "codemirror_mode": {
    "name": "ipython",
    "version": 3
   },
   "file_extension": ".py",
   "mimetype": "text/x-python",
   "name": "python",
   "nbconvert_exporter": "python",
   "pygments_lexer": "ipython3",
   "version": "3.12.1"
  }
 },
 "nbformat": 4,
 "nbformat_minor": 4
}
