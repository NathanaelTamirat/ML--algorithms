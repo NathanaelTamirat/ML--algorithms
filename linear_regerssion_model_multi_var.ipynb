{
 "cells": [
  {
   "cell_type": "code",
   "execution_count": 37,
   "metadata": {},
   "outputs": [],
   "source": [
    "import numpy as np\n",
    "import time \n",
    "import matplotlib.pyplot as plt\n",
    "plt.style.use('./deeplearning.mplstyle')\n",
    "np.set_printoptions(precision=2) #  reduce the numbers"
   ]
  },
  {
   "cell_type": "code",
   "execution_count": 38,
   "metadata": {},
   "outputs": [],
   "source": [
    "X_train = np.array([[2104, 5, 1, 45], [1416, 3, 2, 40], [852, 2, 1, 35]])\n",
    "y_train = np.array([460, 232, 178])\n",
    "\n",
    "b_init = 785.1811367994083\n",
    "w_init = np.array([ 0.39133535, 18.75376741, -53.36032453, -26.42131618])"
   ]
  },
  {
   "cell_type": "code",
   "execution_count": 39,
   "metadata": {},
   "outputs": [],
   "source": [
    "# for loop computing\n",
    "def compute_model(x,w,b):\n",
    "    m=x.shape[0]\n",
    "    f_wb=0\n",
    "    for i in range(m):\n",
    "        f_wb_i=w[i]*x[i]\n",
    "        f_wb=f_wb+f_wb_i\n",
    "    f_wb=f_wb+b\n",
    "    return f_wb\n",
    "\n",
    "#vectorized\n",
    "def compute_model_dot(x,w,b):\n",
    "    f_wb=np.dot(w,x)+b\n",
    "    return f_wb\n"
   ]
  },
  {
   "cell_type": "code",
   "execution_count": 48,
   "metadata": {},
   "outputs": [
    {
     "name": "stdout",
     "output_type": "stream",
     "text": [
      "out prediction is : 459.9999976194083\n",
      "6.079673767089844e-05\n"
     ]
    }
   ],
   "source": [
    "x_new=X_train[0,:]  # train for the first data \n",
    "dt=time.time()\n",
    "prediction=compute_model(x_new,w_init,b_init)\n",
    "de=time.time()\n",
    "print(f\"out prediction is : {prediction}\")\n",
    "print(de-dt) # much slower than the dot "
   ]
  },
  {
   "cell_type": "code",
   "execution_count": 41,
   "metadata": {},
   "outputs": [
    {
     "name": "stdout",
     "output_type": "stream",
     "text": [
      "prediction is : 459.9999976194083\n",
      "0.0001659393310546875\n"
     ]
    }
   ],
   "source": [
    "dt=time.time()\n",
    "prediction=compute_model_dot(x_new,w_init,b_init)\n",
    "de=time.time()\n",
    "print(f\"prediction is : {prediction}\")\n",
    "print(de-dt) #faster than for loop"
   ]
  }
 ],
 "metadata": {
  "kernelspec": {
   "display_name": "tensorkernel",
   "language": "python",
   "name": ".venv"
  },
  "language_info": {
   "codemirror_mode": {
    "name": "ipython",
    "version": 3
   },
   "file_extension": ".py",
   "mimetype": "text/x-python",
   "name": "python",
   "nbconvert_exporter": "python",
   "pygments_lexer": "ipython3",
   "version": "3.12.1"
  }
 },
 "nbformat": 4,
 "nbformat_minor": 2
}
